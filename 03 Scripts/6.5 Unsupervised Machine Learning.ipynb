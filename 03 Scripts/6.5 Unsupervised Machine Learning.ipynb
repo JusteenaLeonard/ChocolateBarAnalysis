{
 "cells": [
  {
   "cell_type": "code",
   "execution_count": 1,
   "id": "71d4651b",
   "metadata": {},
   "outputs": [],
   "source": [
    "#Import Libraries\n",
    "\n",
    "import pandas as pd\n",
    "import numpy as np\n",
    "import seaborn as sns\n",
    "import matplotlib\n",
    "import matplotlib.pyplot as plt\n",
    "import os\n",
    "import sklearn\n",
    "from sklearn.cluster import KMeans\n",
    "import pylab as pl"
   ]
  },
  {
   "cell_type": "code",
   "execution_count": 2,
   "id": "5072afeb",
   "metadata": {},
   "outputs": [],
   "source": [
    "%matplotlib inline"
   ]
  },
  {
   "cell_type": "code",
   "execution_count": 3,
   "id": "7052d138",
   "metadata": {},
   "outputs": [],
   "source": [
    "path = 'C:/Users/Owner/Documents/Chocolate Bar Analysis/02 Data/Original Data'"
   ]
  },
  {
   "cell_type": "code",
   "execution_count": 4,
   "id": "1811e981",
   "metadata": {},
   "outputs": [],
   "source": [
    "df = pd.read_csv(os.path.join(path, 'Chocolate_bar_ratings.csv'))"
   ]
  },
  {
   "cell_type": "code",
   "execution_count": 5,
   "id": "3e2b8dda",
   "metadata": {},
   "outputs": [
    {
     "data": {
      "text/plain": [
       "(2501, 11)"
      ]
     },
     "execution_count": 5,
     "metadata": {},
     "output_type": "execute_result"
    }
   ],
   "source": [
    "df.shape"
   ]
  },
  {
   "cell_type": "code",
   "execution_count": 6,
   "id": "11a7329c",
   "metadata": {
    "scrolled": true
   },
   "outputs": [
    {
     "data": {
      "text/html": [
       "<div>\n",
       "<style scoped>\n",
       "    .dataframe tbody tr th:only-of-type {\n",
       "        vertical-align: middle;\n",
       "    }\n",
       "\n",
       "    .dataframe tbody tr th {\n",
       "        vertical-align: top;\n",
       "    }\n",
       "\n",
       "    .dataframe thead th {\n",
       "        text-align: right;\n",
       "    }\n",
       "</style>\n",
       "<table border=\"1\" class=\"dataframe\">\n",
       "  <thead>\n",
       "    <tr style=\"text-align: right;\">\n",
       "      <th></th>\n",
       "      <th>ref</th>\n",
       "      <th>manufacturer</th>\n",
       "      <th>company_location</th>\n",
       "      <th>review_date</th>\n",
       "      <th>country_of_bean_origin</th>\n",
       "      <th>specific_bean_origin</th>\n",
       "      <th>cocoa_percent</th>\n",
       "      <th>number_of_ingredients</th>\n",
       "      <th>ingredients</th>\n",
       "      <th>characteristics</th>\n",
       "      <th>rating</th>\n",
       "    </tr>\n",
       "  </thead>\n",
       "  <tbody>\n",
       "    <tr>\n",
       "      <th>0</th>\n",
       "      <td>1776</td>\n",
       "      <td>Forteza (Cortes)</td>\n",
       "      <td>Puerto Rico</td>\n",
       "      <td>2016</td>\n",
       "      <td>Dominican Republic</td>\n",
       "      <td>Puerto Rico</td>\n",
       "      <td>0.80</td>\n",
       "      <td>6</td>\n",
       "      <td>B,S,C,V,L,Sa</td>\n",
       "      <td>vanilla, dried fruit, nuts</td>\n",
       "      <td>2.75</td>\n",
       "    </tr>\n",
       "    <tr>\n",
       "      <th>1</th>\n",
       "      <td>1776</td>\n",
       "      <td>Forteza (Cortes)</td>\n",
       "      <td>Puerto Rico</td>\n",
       "      <td>2016</td>\n",
       "      <td>Dominican Republic</td>\n",
       "      <td>Dominican Republic</td>\n",
       "      <td>0.70</td>\n",
       "      <td>6</td>\n",
       "      <td>B,S,C,V,L,Sa</td>\n",
       "      <td>strong vanilla, earthy, nutty</td>\n",
       "      <td>2.75</td>\n",
       "    </tr>\n",
       "    <tr>\n",
       "      <th>2</th>\n",
       "      <td>1992</td>\n",
       "      <td>Alain Ducasse</td>\n",
       "      <td>France</td>\n",
       "      <td>2017</td>\n",
       "      <td>Mexico</td>\n",
       "      <td>Porcelana, Mexique</td>\n",
       "      <td>0.75</td>\n",
       "      <td>6</td>\n",
       "      <td>B,S,C,V,L,Sa</td>\n",
       "      <td>strawberry, cream, gateway</td>\n",
       "      <td>3.50</td>\n",
       "    </tr>\n",
       "    <tr>\n",
       "      <th>3</th>\n",
       "      <td>1215</td>\n",
       "      <td>Alain Ducasse</td>\n",
       "      <td>France</td>\n",
       "      <td>2014</td>\n",
       "      <td>Trinidad</td>\n",
       "      <td>Trinite</td>\n",
       "      <td>0.65</td>\n",
       "      <td>6</td>\n",
       "      <td>B,S,C,V,L,Sa</td>\n",
       "      <td>roasty, sweet, savory</td>\n",
       "      <td>2.75</td>\n",
       "    </tr>\n",
       "    <tr>\n",
       "      <th>4</th>\n",
       "      <td>741</td>\n",
       "      <td>Grand Place</td>\n",
       "      <td>Vietnam</td>\n",
       "      <td>2011</td>\n",
       "      <td>Vietnam</td>\n",
       "      <td>Ben Tre, Dong Nai</td>\n",
       "      <td>0.72</td>\n",
       "      <td>5</td>\n",
       "      <td>B,S,C,V,L</td>\n",
       "      <td>fatty, vanilla, dairy</td>\n",
       "      <td>3.00</td>\n",
       "    </tr>\n",
       "  </tbody>\n",
       "</table>\n",
       "</div>"
      ],
      "text/plain": [
       "    ref      manufacturer company_location  review_date  \\\n",
       "0  1776  Forteza (Cortes)      Puerto Rico         2016   \n",
       "1  1776  Forteza (Cortes)      Puerto Rico         2016   \n",
       "2  1992     Alain Ducasse           France         2017   \n",
       "3  1215     Alain Ducasse           France         2014   \n",
       "4   741       Grand Place          Vietnam         2011   \n",
       "\n",
       "  country_of_bean_origin specific_bean_origin  cocoa_percent  \\\n",
       "0     Dominican Republic          Puerto Rico           0.80   \n",
       "1     Dominican Republic   Dominican Republic           0.70   \n",
       "2                 Mexico   Porcelana, Mexique           0.75   \n",
       "3               Trinidad              Trinite           0.65   \n",
       "4                Vietnam    Ben Tre, Dong Nai           0.72   \n",
       "\n",
       "   number_of_ingredients   ingredients                characteristics  rating  \n",
       "0                      6  B,S,C,V,L,Sa     vanilla, dried fruit, nuts    2.75  \n",
       "1                      6  B,S,C,V,L,Sa  strong vanilla, earthy, nutty    2.75  \n",
       "2                      6  B,S,C,V,L,Sa     strawberry, cream, gateway    3.50  \n",
       "3                      6  B,S,C,V,L,Sa          roasty, sweet, savory    2.75  \n",
       "4                      5     B,S,C,V,L          fatty, vanilla, dairy    3.00  "
      ]
     },
     "execution_count": 6,
     "metadata": {},
     "output_type": "execute_result"
    }
   ],
   "source": [
    "df.head()"
   ]
  },
  {
   "cell_type": "code",
   "execution_count": 7,
   "id": "342dba6d",
   "metadata": {},
   "outputs": [],
   "source": [
    "df_2 = df.drop(columns=['manufacturer', 'company_location', 'country_of_bean_origin', 'specific_bean_origin', 'ingredients', 'characteristics'])"
   ]
  },
  {
   "cell_type": "code",
   "execution_count": 8,
   "id": "9d6d958f",
   "metadata": {},
   "outputs": [
    {
     "data": {
      "text/html": [
       "<div>\n",
       "<style scoped>\n",
       "    .dataframe tbody tr th:only-of-type {\n",
       "        vertical-align: middle;\n",
       "    }\n",
       "\n",
       "    .dataframe tbody tr th {\n",
       "        vertical-align: top;\n",
       "    }\n",
       "\n",
       "    .dataframe thead th {\n",
       "        text-align: right;\n",
       "    }\n",
       "</style>\n",
       "<table border=\"1\" class=\"dataframe\">\n",
       "  <thead>\n",
       "    <tr style=\"text-align: right;\">\n",
       "      <th></th>\n",
       "      <th>ref</th>\n",
       "      <th>review_date</th>\n",
       "      <th>cocoa_percent</th>\n",
       "      <th>number_of_ingredients</th>\n",
       "      <th>rating</th>\n",
       "    </tr>\n",
       "  </thead>\n",
       "  <tbody>\n",
       "    <tr>\n",
       "      <th>0</th>\n",
       "      <td>1776</td>\n",
       "      <td>2016</td>\n",
       "      <td>0.80</td>\n",
       "      <td>6</td>\n",
       "      <td>2.75</td>\n",
       "    </tr>\n",
       "    <tr>\n",
       "      <th>1</th>\n",
       "      <td>1776</td>\n",
       "      <td>2016</td>\n",
       "      <td>0.70</td>\n",
       "      <td>6</td>\n",
       "      <td>2.75</td>\n",
       "    </tr>\n",
       "    <tr>\n",
       "      <th>2</th>\n",
       "      <td>1992</td>\n",
       "      <td>2017</td>\n",
       "      <td>0.75</td>\n",
       "      <td>6</td>\n",
       "      <td>3.50</td>\n",
       "    </tr>\n",
       "    <tr>\n",
       "      <th>3</th>\n",
       "      <td>1215</td>\n",
       "      <td>2014</td>\n",
       "      <td>0.65</td>\n",
       "      <td>6</td>\n",
       "      <td>2.75</td>\n",
       "    </tr>\n",
       "    <tr>\n",
       "      <th>4</th>\n",
       "      <td>741</td>\n",
       "      <td>2011</td>\n",
       "      <td>0.72</td>\n",
       "      <td>5</td>\n",
       "      <td>3.00</td>\n",
       "    </tr>\n",
       "  </tbody>\n",
       "</table>\n",
       "</div>"
      ],
      "text/plain": [
       "    ref  review_date  cocoa_percent  number_of_ingredients  rating\n",
       "0  1776         2016           0.80                      6    2.75\n",
       "1  1776         2016           0.70                      6    2.75\n",
       "2  1992         2017           0.75                      6    3.50\n",
       "3  1215         2014           0.65                      6    2.75\n",
       "4   741         2011           0.72                      5    3.00"
      ]
     },
     "execution_count": 8,
     "metadata": {},
     "output_type": "execute_result"
    }
   ],
   "source": [
    "df_2.head()"
   ]
  },
  {
   "cell_type": "markdown",
   "id": "2dacd9d2",
   "metadata": {},
   "source": [
    "# Elbow Technique"
   ]
  },
  {
   "cell_type": "code",
   "execution_count": 9,
   "id": "3feb22d9",
   "metadata": {},
   "outputs": [],
   "source": [
    "num_cl = range(1, 10) \n",
    "kmeans = [KMeans(n_clusters=i) for i in num_cl] "
   ]
  },
  {
   "cell_type": "code",
   "execution_count": 10,
   "id": "94344d37",
   "metadata": {},
   "outputs": [
    {
     "data": {
      "text/plain": [
       "[-1488184179.7703254,\n",
       " -401794569.4260853,\n",
       " -173483927.96512434,\n",
       " -99692486.7626427,\n",
       " -61903229.539077505,\n",
       " -43252824.22804596,\n",
       " -31663112.61187692,\n",
       " -24916664.717520226,\n",
       " -19331997.40393531]"
      ]
     },
     "execution_count": 10,
     "metadata": {},
     "output_type": "execute_result"
    }
   ],
   "source": [
    "score = [kmeans[i].fit(df_2).score(df_2) for i in range(len(kmeans))] \n",
    "\n",
    "score"
   ]
  },
  {
   "cell_type": "code",
   "execution_count": 11,
   "id": "1c059636",
   "metadata": {},
   "outputs": [
    {
     "data": {
      "image/png": "[encoded data removed]",
      "text/plain": [
       "<Figure size 432x288 with 1 Axes>"
      ]
     },
     "metadata": {
      "needs_background": "light"
     },
     "output_type": "display_data"
    }
   ],
   "source": [
    "# Plot the elbow curve using PyLab.\n",
    "\n",
    "pl.plot(num_cl,score)\n",
    "pl.xlabel('Number of Clusters')\n",
    "pl.ylabel('Score')\n",
    "pl.title('Elbow Curve')\n",
    "pl.show()"
   ]
  },
  {
   "cell_type": "markdown",
   "id": "b4e8f938",
   "metadata": {},
   "source": [
    "# K-means Clustering"
   ]
  },
  {
   "cell_type": "code",
   "execution_count": 13,
   "id": "5829bf1d",
   "metadata": {},
   "outputs": [],
   "source": [
    "kmeans = KMeans(n_clusters = 3)"
   ]
  },
  {
   "cell_type": "code",
   "execution_count": 14,
   "id": "e67507c2",
   "metadata": {},
   "outputs": [
    {
     "data": {
      "text/plain": [
       "KMeans(n_clusters=3)"
      ]
     },
     "execution_count": 14,
     "metadata": {},
     "output_type": "execute_result"
    }
   ],
   "source": [
    "kmeans.fit(df_2)"
   ]
  },
  {
   "cell_type": "code",
   "execution_count": 15,
   "id": "f9422655",
   "metadata": {},
   "outputs": [],
   "source": [
    "df_2['clusters'] = kmeans.fit_predict(df_2)"
   ]
  },
  {
   "cell_type": "code",
   "execution_count": 16,
   "id": "17e95a50",
   "metadata": {},
   "outputs": [
    {
     "data": {
      "text/html": [
       "<div>\n",
       "<style scoped>\n",
       "    .dataframe tbody tr th:only-of-type {\n",
       "        vertical-align: middle;\n",
       "    }\n",
       "\n",
       "    .dataframe tbody tr th {\n",
       "        vertical-align: top;\n",
       "    }\n",
       "\n",
       "    .dataframe thead th {\n",
       "        text-align: right;\n",
       "    }\n",
       "</style>\n",
       "<table border=\"1\" class=\"dataframe\">\n",
       "  <thead>\n",
       "    <tr style=\"text-align: right;\">\n",
       "      <th></th>\n",
       "      <th>ref</th>\n",
       "      <th>review_date</th>\n",
       "      <th>cocoa_percent</th>\n",
       "      <th>number_of_ingredients</th>\n",
       "      <th>rating</th>\n",
       "      <th>clusters</th>\n",
       "    </tr>\n",
       "  </thead>\n",
       "  <tbody>\n",
       "    <tr>\n",
       "      <th>0</th>\n",
       "      <td>1776</td>\n",
       "      <td>2016</td>\n",
       "      <td>0.80</td>\n",
       "      <td>6</td>\n",
       "      <td>2.75</td>\n",
       "      <td>2</td>\n",
       "    </tr>\n",
       "    <tr>\n",
       "      <th>1</th>\n",
       "      <td>1776</td>\n",
       "      <td>2016</td>\n",
       "      <td>0.70</td>\n",
       "      <td>6</td>\n",
       "      <td>2.75</td>\n",
       "      <td>2</td>\n",
       "    </tr>\n",
       "    <tr>\n",
       "      <th>2</th>\n",
       "      <td>1992</td>\n",
       "      <td>2017</td>\n",
       "      <td>0.75</td>\n",
       "      <td>6</td>\n",
       "      <td>3.50</td>\n",
       "      <td>1</td>\n",
       "    </tr>\n",
       "    <tr>\n",
       "      <th>3</th>\n",
       "      <td>1215</td>\n",
       "      <td>2014</td>\n",
       "      <td>0.65</td>\n",
       "      <td>6</td>\n",
       "      <td>2.75</td>\n",
       "      <td>2</td>\n",
       "    </tr>\n",
       "    <tr>\n",
       "      <th>4</th>\n",
       "      <td>741</td>\n",
       "      <td>2011</td>\n",
       "      <td>0.72</td>\n",
       "      <td>5</td>\n",
       "      <td>3.00</td>\n",
       "      <td>0</td>\n",
       "    </tr>\n",
       "  </tbody>\n",
       "</table>\n",
       "</div>"
      ],
      "text/plain": [
       "    ref  review_date  cocoa_percent  number_of_ingredients  rating  clusters\n",
       "0  1776         2016           0.80                      6    2.75         2\n",
       "1  1776         2016           0.70                      6    2.75         2\n",
       "2  1992         2017           0.75                      6    3.50         1\n",
       "3  1215         2014           0.65                      6    2.75         2\n",
       "4   741         2011           0.72                      5    3.00         0"
      ]
     },
     "execution_count": 16,
     "metadata": {},
     "output_type": "execute_result"
    }
   ],
   "source": [
    "df_2.head()"
   ]
  },
  {
   "cell_type": "code",
   "execution_count": 17,
   "id": "58d68c4e",
   "metadata": {},
   "outputs": [
    {
     "data": {
      "text/plain": [
       "2    897\n",
       "1    881\n",
       "0    723\n",
       "Name: clusters, dtype: int64"
      ]
     },
     "execution_count": 17,
     "metadata": {},
     "output_type": "execute_result"
    }
   ],
   "source": [
    "df_2['clusters'].value_counts()"
   ]
  },
  {
   "cell_type": "code",
   "execution_count": 21,
   "id": "8b52a3aa",
   "metadata": {},
   "outputs": [
    {
     "data": {
      "image/png": "[encoded data removed]",
      "text/plain": [
       "<Figure size 864x576 with 1 Axes>"
      ]
     },
     "metadata": {
      "needs_background": "light"
     },
     "output_type": "display_data"
    }
   ],
   "source": [
    "plt.figure(figsize=(12,8))\n",
    "ax = sns.scatterplot(x=df_2['cocoa_percent'], y=df_2['rating'], hue=kmeans.labels_, s=100) \n",
    "\n",
    "ax.grid(False) \n",
    "plt.xlabel('Cocoa Percent') # Label x-axis.\n",
    "plt.ylabel('Rating') # Label y-axis.\n",
    "plt.show()"
   ]
  },
  {
   "cell_type": "code",
   "execution_count": 22,
   "id": "d21686f0",
   "metadata": {},
   "outputs": [
    {
     "data": {
      "image/png": "[encoded data removed]",
      "text/plain": [
       "<Figure size 864x576 with 1 Axes>"
      ]
     },
     "metadata": {
      "needs_background": "light"
     },
     "output_type": "display_data"
    }
   ],
   "source": [
    "plt.figure(figsize=(12,8))\n",
    "ax = sns.scatterplot(x=df_2['number_of_ingredients'], y=df_2['rating'], hue=kmeans.labels_, s=100)\n",
    "\n",
    "ax.grid(False) \n",
    "plt.xlabel('Number of Ingredients') \n",
    "plt.ylabel('Rating') \n",
    "plt.show()"
   ]
  },
  {
   "cell_type": "code",
   "execution_count": 26,
   "id": "fb141f73",
   "metadata": {},
   "outputs": [],
   "source": [
    "df.loc[df_2['clusters'] == 2, 'cluster'] = 'dark purple'\n",
    "df.loc[df_2['clusters'] == 1, 'cluster'] = 'purple'\n",
    "df.loc[df_2['clusters'] == 0, 'cluster'] = 'pink'"
   ]
  },
  {
   "cell_type": "code",
   "execution_count": 28,
   "id": "ba32f27f",
   "metadata": {},
   "outputs": [
    {
     "data": {
      "text/html": [
       "<div>\n",
       "<style scoped>\n",
       "    .dataframe tbody tr th:only-of-type {\n",
       "        vertical-align: middle;\n",
       "    }\n",
       "\n",
       "    .dataframe tbody tr th {\n",
       "        vertical-align: top;\n",
       "    }\n",
       "\n",
       "    .dataframe thead tr th {\n",
       "        text-align: left;\n",
       "    }\n",
       "\n",
       "    .dataframe thead tr:last-of-type th {\n",
       "        text-align: right;\n",
       "    }\n",
       "</style>\n",
       "<table border=\"1\" class=\"dataframe\">\n",
       "  <thead>\n",
       "    <tr>\n",
       "      <th></th>\n",
       "      <th colspan=\"2\" halign=\"left\">review_date</th>\n",
       "      <th colspan=\"2\" halign=\"left\">cocoa_percent</th>\n",
       "      <th colspan=\"2\" halign=\"left\">number_of_ingredients</th>\n",
       "      <th colspan=\"2\" halign=\"left\">rating</th>\n",
       "    </tr>\n",
       "    <tr>\n",
       "      <th></th>\n",
       "      <th>mean</th>\n",
       "      <th>median</th>\n",
       "      <th>mean</th>\n",
       "      <th>median</th>\n",
       "      <th>mean</th>\n",
       "      <th>median</th>\n",
       "      <th>mean</th>\n",
       "      <th>median</th>\n",
       "    </tr>\n",
       "    <tr>\n",
       "      <th>clusters</th>\n",
       "      <th></th>\n",
       "      <th></th>\n",
       "      <th></th>\n",
       "      <th></th>\n",
       "      <th></th>\n",
       "      <th></th>\n",
       "      <th></th>\n",
       "      <th></th>\n",
       "    </tr>\n",
       "  </thead>\n",
       "  <tbody>\n",
       "    <tr>\n",
       "      <th>0</th>\n",
       "      <td>2009.619640</td>\n",
       "      <td>2010.0</td>\n",
       "      <td>0.709820</td>\n",
       "      <td>0.7</td>\n",
       "      <td>3.515906</td>\n",
       "      <td>4.0</td>\n",
       "      <td>3.161134</td>\n",
       "      <td>3.25</td>\n",
       "    </tr>\n",
       "    <tr>\n",
       "      <th>1</th>\n",
       "      <td>2019.040863</td>\n",
       "      <td>2019.0</td>\n",
       "      <td>0.714529</td>\n",
       "      <td>0.7</td>\n",
       "      <td>2.772985</td>\n",
       "      <td>3.0</td>\n",
       "      <td>3.240636</td>\n",
       "      <td>3.25</td>\n",
       "    </tr>\n",
       "    <tr>\n",
       "      <th>2</th>\n",
       "      <td>2014.420290</td>\n",
       "      <td>2014.0</td>\n",
       "      <td>0.718868</td>\n",
       "      <td>0.7</td>\n",
       "      <td>2.905240</td>\n",
       "      <td>3.0</td>\n",
       "      <td>3.224359</td>\n",
       "      <td>3.25</td>\n",
       "    </tr>\n",
       "  </tbody>\n",
       "</table>\n",
       "</div>"
      ],
      "text/plain": [
       "          review_date         cocoa_percent        number_of_ingredients  \\\n",
       "                 mean  median          mean median                  mean   \n",
       "clusters                                                                   \n",
       "0         2009.619640  2010.0      0.709820    0.7              3.515906   \n",
       "1         2019.040863  2019.0      0.714529    0.7              2.772985   \n",
       "2         2014.420290  2014.0      0.718868    0.7              2.905240   \n",
       "\n",
       "                   rating         \n",
       "         median      mean median  \n",
       "clusters                          \n",
       "0           4.0  3.161134   3.25  \n",
       "1           3.0  3.240636   3.25  \n",
       "2           3.0  3.224359   3.25  "
      ]
     },
     "execution_count": 28,
     "metadata": {},
     "output_type": "execute_result"
    }
   ],
   "source": [
    "df_2.groupby('clusters').agg({'review_date':['mean', 'median'], \n",
    "                         'cocoa_percent':['mean', 'median'], \n",
    "                         'number_of_ingredients':['mean', 'median'],\n",
    "                          'rating':['mean', 'median']})"
   ]
  },
  {
   "cell_type": "code",
   "execution_count": null,
   "id": "ba99589f",
   "metadata": {},
   "outputs": [],
   "source": [
    "#There is no correlction with cocoapercentage or number of ingredients. "
   ]
  }
 ],
 "metadata": {
  "kernelspec": {
   "display_name": "Python 3 (ipykernel)",
   "language": "python",
   "name": "python3"
  },
  "language_info": {
   "codemirror_mode": {
    "name": "ipython",
    "version": 3
   },
   "file_extension": ".py",
   "mimetype": "text/x-python",
   "name": "python",
   "nbconvert_exporter": "python",
   "pygments_lexer": "ipython3",
   "version": "3.9.12"
  }
 },
 "nbformat": 4,
 "nbformat_minor": 5
}
